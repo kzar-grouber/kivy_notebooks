{
 "cells": [
  {
   "cell_type": "code",
   "execution_count": 1,
   "metadata": {},
   "outputs": [
    {
     "name": "stderr",
     "output_type": "stream",
     "text": "[INFO   ] [Logger      ] Record log in /home/cesar/.kivy/logs/kivy_20-01-30_0.txt\n[INFO   ] [Kivy        ] v1.11.1\n[INFO   ] [Kivy        ] Installed at \"/home/cesar/Dev/kivy/venv/lib/python3.7/site-packages/kivy/__init__.py\"\n[INFO   ] [Python      ] v3.7.5 (default, Jan 11 2020, 17:03:19) \n[GCC 7.4.0]\n[INFO   ] [Python      ] Interpreter at \"/home/cesar/Dev/kivy/venv/bin/python3\"\n[INFO   ] [Factory     ] 184 symbols loaded\n[INFO   ] [Image       ] Providers: img_tex, img_dds, img_sdl2, img_gif (img_pil, img_ffpyplayer ignored)\n[INFO   ] [Text        ] Provider: sdl2\n"
    }
   ],
   "source": [
    "# coding: utf-8\n",
    "# author: Cesar Godoi\n",
    "\n",
    "from kivy.app import App\n",
    "from kivy.uix.button import Button\n",
    "from kivy.uix.label import Label\n",
    "from kivy.interactive import InteractiveLauncher\n",
    "from kivy.lang import Builder\n",
    "\n",
    "# força a aplicação a não iniciar em tela cheia\n",
    "from kivy.config import Config\n",
    "Config.set('graphics', 'fullscreen', '0')\n",
    "\n",
    "\n",
    "window = None\n",
    "# layout_mngr --> layout manager\n",
    "layout_mngr = None"
   ]
  },
  {
   "cell_type": "code",
   "execution_count": 2,
   "metadata": {},
   "outputs": [],
   "source": [
    "class WindowApp(App):\n",
    "    pass\n",
    "\n",
    "\n",
    "window = WindowApp()\n",
    "# i_window --> Interactive Window\n",
    "i_window = InteractiveLauncher(window)\n",
    "i_window.run()"
   ]
  },
  {
   "cell_type": "code",
   "execution_count": 82,
   "metadata": {},
   "outputs": [],
   "source": [
    "kv_code = '''\n",
    "StackLayout:\n",
    "    orientation: 'tb-lr'\n",
    "    padding: 50\n",
    "'''\n",
    "\n",
    "if window.root:\n",
    "    window.root_window.remove_widget(window.root)\n",
    "    window.root, layout_mngr = None, None\n",
    "\n",
    "window.root = layout_mngr = Builder.load_string(kv_code)\n",
    "window.root_window.add_widget(layout_mngr)"
   ]
  },
  {
   "cell_type": "code",
   "execution_count": 40,
   "metadata": {},
   "outputs": [],
   "source": [
    "def add_lb(**kwargs):\n",
    "    lb = Label(size_hint_y=None, \n",
    "               height=50, \n",
    "               markup=True,\n",
    "               font_size=25, \n",
    "               **kwargs)\n",
    "    layout_mngr.add_widget(lb)\n",
    "    return lb"
   ]
  },
  {
   "cell_type": "code",
   "execution_count": 12,
   "metadata": {},
   "outputs": [],
   "source": [
    "# tags do BBCode:\n",
    "# [b] Negrito [/b]\n",
    "# [i] Itálico [/i]\n",
    "# [u] Sublinhado [/u]\n",
    "# [s] Tachado [/s]\n",
    "# [size=50] Aumenta o tamanho deo texto em px [/size]\n",
    "# [color=rgb] Altera a cor usando rgb [/color]\n",
    "# [sup] Sobrescrito [/sup]\n",
    "# [sub] Sub-escrito [/sub]"
   ]
  },
  {
   "cell_type": "code",
   "execution_count": 83,
   "metadata": {},
   "outputs": [
    {
     "data": {
      "text/plain": "<kivy.uix.label.Label at 0x7fce561f3b40>"
     },
     "execution_count": 83,
     "metadata": {},
     "output_type": "execute_result"
    }
   ],
   "source": [
    "# [b] Negrito [/b]\n",
    "txt1 = 'podemos usar [b]Negrito para algum texto[/b]'\n",
    "add_lb(text=txt1)"
   ]
  },
  {
   "cell_type": "code",
   "execution_count": 84,
   "metadata": {},
   "outputs": [
    {
     "data": {
      "text/plain": "<kivy.uix.label.Label at 0x7fce561fcbb0>"
     },
     "execution_count": 84,
     "metadata": {},
     "output_type": "execute_result"
    }
   ],
   "source": [
    "# [i] Itálico [/i]\n",
    "txt2 = 'podemos usar [i]Itálico para algum texto[/i]'\n",
    "add_lb(text=txt2)"
   ]
  },
  {
   "cell_type": "code",
   "execution_count": 85,
   "metadata": {},
   "outputs": [
    {
     "data": {
      "text/plain": "<kivy.uix.label.Label at 0x7fce56205910>"
     },
     "execution_count": 85,
     "metadata": {},
     "output_type": "execute_result"
    }
   ],
   "source": [
    "# [u] Sublinhado [/u]\n",
    "txt3 = 'podemos usar [u]Sublinhado para algum texto[/u]'\n",
    "add_lb(text=txt3)"
   ]
  },
  {
   "cell_type": "code",
   "execution_count": 86,
   "metadata": {},
   "outputs": [
    {
     "data": {
      "text/plain": "<kivy.uix.label.Label at 0x7fce5620bc20>"
     },
     "execution_count": 86,
     "metadata": {},
     "output_type": "execute_result"
    }
   ],
   "source": [
    "# [s] Tachado [/s]\n",
    "txt4 = 'podemos usar [s]Tachado para algum texto[/s]'\n",
    "add_lb(text=txt4)"
   ]
  },
  {
   "cell_type": "code",
   "execution_count": 87,
   "metadata": {},
   "outputs": [
    {
     "data": {
      "text/plain": "<kivy.uix.label.Label at 0x7fce56214910>"
     },
     "execution_count": 87,
     "metadata": {},
     "output_type": "execute_result"
    }
   ],
   "source": [
    "txt5 = 'Um [b]pouco[/b] [i]de[/i] [u]cada[/u] [s]coisa[/s]'\n",
    "add_lb(text=txt5)"
   ]
  },
  {
   "cell_type": "code",
   "execution_count": 88,
   "metadata": {},
   "outputs": [
    {
     "data": {
      "text/plain": "<kivy.uix.label.Label at 0x7fce5fd2c4b0>"
     },
     "execution_count": 88,
     "metadata": {},
     "output_type": "execute_result"
    }
   ],
   "source": [
    "txt6 = 'Ou [b][i][u][s]tudo ao mesmo tempo[/s][/u][/i][/b]'\n",
    "add_lb(text=txt6)"
   ]
  },
  {
   "cell_type": "code",
   "execution_count": 89,
   "metadata": {},
   "outputs": [
    {
     "data": {
      "text/plain": "<kivy.uix.label.Label at 0x7fce5625ef30>"
     },
     "execution_count": 89,
     "metadata": {},
     "output_type": "execute_result"
    }
   ],
   "source": [
    "# [size=50] Aumenta o tamanho deo texto em px [/size]\n",
    "txt7 = 'pequeno [size=40]grande[/size] pequeno'\n",
    "add_lb(text=txt7)"
   ]
  },
  {
   "cell_type": "code",
   "execution_count": 90,
   "metadata": {},
   "outputs": [
    {
     "data": {
      "text/plain": "<kivy.uix.label.Label at 0x7fce5621d600>"
     },
     "execution_count": 90,
     "metadata": {},
     "output_type": "execute_result"
    }
   ],
   "source": [
    "# [color=rgb] Altera a cor usando rgb [/color]\n",
    "txt8 = 'branco [color=f00]vermelho[/color] [color=0f0]verde[/color] [color=00f]azul[/color]'\n",
    "add_lb(text=txt8)"
   ]
  },
  {
   "cell_type": "code",
   "execution_count": 91,
   "metadata": {},
   "outputs": [
    {
     "data": {
      "text/plain": "<kivy.uix.label.Label at 0x7fce56228830>"
     },
     "execution_count": 91,
     "metadata": {},
     "output_type": "execute_result"
    }
   ],
   "source": [
    "# [sup] Sobrescrito [/sup]\n",
    "txt9 = 'você pegou o 20[sup]o[/sup] lugar na corrida'\n",
    "add_lb(text=txt9)"
   ]
  },
  {
   "cell_type": "code",
   "execution_count": 92,
   "metadata": {},
   "outputs": [
    {
     "data": {
      "text/plain": "<kivy.uix.label.Label at 0x7fce55f2a6e0>"
     },
     "execution_count": 92,
     "metadata": {},
     "output_type": "execute_result"
    }
   ],
   "source": [
    "# [sub] Sob-escrito [/sub]\n",
    "txt10 = 'Nos contratos [sub]leia as letras minúsculas![/sub]'\n",
    "add_lb(text=txt10)"
   ]
  },
  {
   "cell_type": "code",
   "execution_count": null,
   "metadata": {},
   "outputs": [],
   "source": []
  }
 ],
 "metadata": {
  "kernelspec": {
   "display_name": "Python 3",
   "language": "python",
   "name": "python3"
  },
  "language_info": {
   "codemirror_mode": {
    "name": "ipython",
    "version": 3
   },
   "file_extension": ".py",
   "mimetype": "text/x-python",
   "name": "python",
   "nbconvert_exporter": "python",
   "pygments_lexer": "ipython3",
   "version": "3.7.5-final"
  }
 },
 "nbformat": 4,
 "nbformat_minor": 4
}