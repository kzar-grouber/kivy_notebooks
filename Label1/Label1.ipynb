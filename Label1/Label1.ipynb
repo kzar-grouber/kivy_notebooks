{
 "cells": [
  {
   "cell_type": "code",
   "execution_count": null,
   "metadata": {},
   "outputs": [],
   "source": [
    "# coding: utf-8\n",
    "# author: Cesar Godoi\n",
    "\n",
    "from kivy.app import App\n",
    "from kivy.uix.button import Button\n",
    "from kivy.uix.label import Label\n",
    "from kivy.interactive import InteractiveLauncher\n",
    "from kivy.lang import Builder\n",
    "\n",
    "# força a aplicação a não iniciar em tela cheia\n",
    "from kivy.config import Config\n",
    "Config.set('graphics', 'fullscreen', '0')\n",
    "\n",
    "\n",
    "window = None\n",
    "# layout_mngr --> layout manager\n",
    "layout_mngr = None"
   ]
  },
  {
   "cell_type": "code",
   "execution_count": null,
   "metadata": {},
   "outputs": [],
   "source": [
    "class WindowApp(App):\n",
    "    pass\n",
    "\n",
    "\n",
    "window = WindowApp()\n",
    "# i_window --> Interactive Window\n",
    "i_window = InteractiveLauncher(window)\n",
    "i_window.run()"
   ]
  },
  {
   "cell_type": "code",
   "execution_count": null,
   "metadata": {},
   "outputs": [],
   "source": [
    "kv_code = '''\n",
    "StackLayout:\n",
    "    orientation: 'tb-lr'\n",
    "    padding: 50\n",
    "'''\n",
    "\n",
    "if window.root:\n",
    "    window.root_window.remove_widget(window.root)\n",
    "    window.root, layout_mngr = None, None\n",
    "\n",
    "window.root = layout_mngr = Builder.load_string(kv_code)\n",
    "window.root_window.add_widget(layout_mngr)"
   ]
  },
  {
   "cell_type": "code",
   "execution_count": null,
   "metadata": {},
   "outputs": [],
   "source": [
    "def add_lb(**args):\n",
    "    lb = Label(text='Estudando a classe Label',\n",
    "        size_hint_y=None,\n",
    "        height=50,\n",
    "        **args)\n",
    "    layout_mngr.add_widget(lb)\n",
    "    return lb"
   ]
  },
  {
   "cell_type": "code",
   "execution_count": null,
   "metadata": {},
   "outputs": [],
   "source": [
    "# tamanho da fonte (px)\n",
    "add_lb().font_size = 10"
   ]
  },
  {
   "cell_type": "code",
   "execution_count": null,
   "metadata": {},
   "outputs": [],
   "source": [
    "# nome da fonte !cuidado! \n",
    "# fontes padrão da biblioteca kivy são:\n",
    "# 'Roboto', 'DejaVuSans', 'Roboto-Bold', 'Roboto-BoldItalic'\n",
    "# 'Roboto-Italic', 'Roboto-Regular', 'RobotoMono-Regular' \n",
    "# demais fontes:\n",
    "# x.font_name = '<path>'\n",
    "x = add_lb()\n",
    "x.font_name = 'Roboto-BoldItalic'"
   ]
  },
  {
   "cell_type": "code",
   "execution_count": null,
   "metadata": {},
   "outputs": [],
   "source": [
    "# cor do contorno do texto (rgb)\n",
    "x.outline_color = .1, .6, .3\n",
    "# expessura do contorno (px)\n",
    "x.outline_width = 2"
   ]
  },
  {
   "cell_type": "code",
   "execution_count": null,
   "metadata": {},
   "outputs": [],
   "source": [
    "# sublinhado\n",
    "x.underline = True"
   ]
  },
  {
   "cell_type": "code",
   "execution_count": null,
   "metadata": {},
   "outputs": [],
   "source": [
    "# negrito\n",
    "add_lb().bold = True"
   ]
  },
  {
   "cell_type": "code",
   "execution_count": null,
   "metadata": {},
   "outputs": [],
   "source": [
    "# itálico\n",
    "add_lb().italic = True"
   ]
  },
  {
   "cell_type": "code",
   "execution_count": null,
   "metadata": {},
   "outputs": [],
   "source": [
    "# cor da fonte (rgba)\n",
    "add_lb(font_size=25).color = .1, .5, .4, 1"
   ]
  },
  {
   "cell_type": "code",
   "execution_count": null,
   "metadata": {},
   "outputs": [],
   "source": [
    "# desabilitada\n",
    "add_lb(font_size=25).disabled = True"
   ]
  },
  {
   "cell_type": "code",
   "execution_count": null,
   "metadata": {},
   "outputs": [],
   "source": [
    "txt = '''1 - aaa bbb ccc ddd\n",
    "2 - aaa bbb ccc ddd\n",
    "3 - aaa bbb ccc ddd eee\n",
    "4 - aaa bbb ccc ddd\n",
    "5 - aaa bbb ccc ddd eee fff\n",
    "6 - aaa bbb ccc ddd'''"
   ]
  },
  {
   "cell_type": "code",
   "execution_count": null,
   "metadata": {},
   "outputs": [],
   "source": [
    "# trabalhando com bloco de textos\n",
    "y = add_lb()\n",
    "y.text = txt"
   ]
  },
  {
   "cell_type": "code",
   "execution_count": null,
   "metadata": {},
   "outputs": [],
   "source": [
    "# espaçamento das linhas\n",
    "y.line_height = 1.5"
   ]
  },
  {
   "cell_type": "code",
   "execution_count": null,
   "metadata": {},
   "outputs": [],
   "source": [
    "# número máximo de linhas\n",
    "y.max_lines = 3"
   ]
  },
  {
   "cell_type": "code",
   "execution_count": null,
   "metadata": {},
   "outputs": [],
   "source": [
    "# alinhamento horizontal\n",
    "# valores padrão: 'auto', 'left', 'right', 'center', 'justify' \n",
    "y.halign = 'right'"
   ]
  },
  {
   "cell_type": "code",
   "execution_count": null,
   "metadata": {},
   "outputs": [],
   "source": [
    "y.outline_color = .7, .3, .3\n",
    "y.outline_width = 2"
   ]
  },
  {
   "cell_type": "code",
   "execution_count": null,
   "metadata": {},
   "outputs": [],
   "source": [
    "# tamanho do texto\n",
    "# recebe um tupla (width, height)\n",
    "z = add_lb()\n",
    "z.text_size = (80, 40)"
   ]
  },
  {
   "cell_type": "code",
   "execution_count": null,
   "metadata": {},
   "outputs": [],
   "source": []
  },
  {
   "cell_type": "code",
   "execution_count": null,
   "metadata": {},
   "outputs": [],
   "source": [
    "b"
   ]
  }
 ],
 "metadata": {
  "kernelspec": {
   "display_name": "Python 3",
   "language": "python",
   "name": "python3"
  },
  "language_info": {
   "codemirror_mode": {
    "name": "ipython",
    "version": 3
   },
   "file_extension": ".py",
   "mimetype": "text/x-python",
   "name": "python",
   "nbconvert_exporter": "python",
   "pygments_lexer": "ipython3",
   "version": "3.7.5-final"
  }
 },
 "nbformat": 4,
 "nbformat_minor": 4
}