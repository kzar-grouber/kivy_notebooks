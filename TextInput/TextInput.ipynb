{
 "cells": [
  {
   "cell_type": "code",
   "execution_count": 1,
   "metadata": {},
   "outputs": [
    {
     "name": "stderr",
     "output_type": "stream",
     "text": "[INFO   ] [Logger      ] Record log in /home/cesar/.kivy/logs/kivy_20-02-03_5.txt\n[INFO   ] [Kivy        ] v1.11.1\n[INFO   ] [Kivy        ] Installed at \"/home/cesar/Dev/kivy/venv/lib/python3.7/site-packages/kivy/__init__.py\"\n[INFO   ] [Python      ] v3.7.5 (default, Jan 11 2020, 17:03:19) \n[GCC 7.4.0]\n[INFO   ] [Python      ] Interpreter at \"/home/cesar/Dev/kivy/venv/bin/python3\"\n[INFO   ] [Factory     ] 184 symbols loaded\n[INFO   ] [Image       ] Providers: img_tex, img_dds, img_sdl2, img_gif (img_pil, img_ffpyplayer ignored)\n[INFO   ] [Text        ] Provider: sdl2\n"
    }
   ],
   "source": [
    "# coding: utf-8\n",
    "# author: Cesar Godoi\n",
    "\n",
    "from kivy.app import App\n",
    "from kivy.uix.button import Button\n",
    "from kivy.interactive import InteractiveLauncher\n",
    "from kivy.lang import Builder\n",
    "\n",
    "# força a aplicação a não iniciar em tela cheia\n",
    "from kivy.config import Config\n",
    "Config.set('graphics', 'fullscreen', '0')\n",
    "\n",
    "\n",
    "window = None\n",
    "# layout_mngr --> layout manager\n",
    "layout_mngr = None"
   ]
  },
  {
   "cell_type": "code",
   "execution_count": 2,
   "metadata": {},
   "outputs": [],
   "source": [
    "class WindowApp(App):\n",
    "    pass\n",
    "\n",
    "\n",
    "window = WindowApp()\n",
    "# i_window --> Interactive Window\n",
    "i_window = InteractiveLauncher(window)\n",
    "i_window.run()"
   ]
  },
  {
   "cell_type": "code",
   "execution_count": 3,
   "metadata": {},
   "outputs": [],
   "source": [
    "kv_code = '''\n",
    "FloatLayout:\n",
    "    TextInput:\n",
    "        id: text_input\n",
    "        size_hint: None, None\n",
    "        size: root.size\n",
    "        background_active: ''\n",
    "        background_color: .7, .7, .7, 1\n",
    "'''\n",
    "\n",
    "if window.root:\n",
    "    window.root_window.remove_widget(window.root)\n",
    "    window.root, layout_mngr = None, None\n",
    "\n",
    "window.root = layout_mngr = Builder.load_string(kv_code)\n",
    "window.root_window.add_widget(layout_mngr)"
   ]
  },
  {
   "cell_type": "code",
   "execution_count": 4,
   "metadata": {},
   "outputs": [],
   "source": [
    "# embora ids seja um dict, a biblioteca kivy fez uma implementação\n",
    "# para que possamos trabalhar como se fosse um objeto\n",
    "# assim, ao invés de ids['text_input'] podemos usar ids.text_input \n",
    "ti = layout_mngr.ids.text_input"
   ]
  },
  {
   "cell_type": "code",
   "execution_count": null,
   "metadata": {},
   "outputs": [],
   "source": [
    "# somente leitura (True / False)\n",
    "ti.readonly = False"
   ]
  },
  {
   "cell_type": "code",
   "execution_count": null,
   "metadata": {},
   "outputs": [],
   "source": [
    "# nome da fonte --> herda de Label\n",
    "ti.font_name = \"DejaVuSans\""
   ]
  },
  {
   "cell_type": "code",
   "execution_count": null,
   "metadata": {},
   "outputs": [],
   "source": [
    "# tamanho da fonte --> herda de Label\n",
    "ti.font_size = 25"
   ]
  },
  {
   "cell_type": "code",
   "execution_count": null,
   "metadata": {},
   "outputs": [],
   "source": [
    "# cor da fonte --> foreground_color\n",
    "ti.foreground_color = .2, .5, .3, 1"
   ]
  },
  {
   "cell_type": "code",
   "execution_count": null,
   "metadata": {},
   "outputs": [],
   "source": [
    "# tamanho da tabulação --> tab_width (padrão = 4)\n",
    "ti.tab_width = 12"
   ]
  },
  {
   "cell_type": "code",
   "execution_count": 6,
   "metadata": {},
   "outputs": [],
   "source": [
    "# desabilita a tabulação --> write_tab\n",
    "ti.write_tab = True"
   ]
  },
  {
   "cell_type": "code",
   "execution_count": null,
   "metadata": {},
   "outputs": [],
   "source": [
    "# cursor piscante --> cursor_blink\n",
    "ti.cursor_blink = True"
   ]
  },
  {
   "cell_type": "code",
   "execution_count": null,
   "metadata": {},
   "outputs": [],
   "source": [
    "# cor do cursor --> cursor_color (rgba) - padrão (1,0,0,1)\n",
    "ti.cursor_color = 0, 0, 1, 1"
   ]
  },
  {
   "cell_type": "code",
   "execution_count": 7,
   "metadata": {},
   "outputs": [],
   "source": [
    "# padding \n",
    "ti.padding = 20"
   ]
  },
  {
   "cell_type": "code",
   "execution_count": null,
   "metadata": {},
   "outputs": [],
   "source": []
  },
  {
   "cell_type": "code",
   "execution_count": null,
   "metadata": {},
   "outputs": [],
   "source": []
  },
  {
   "cell_type": "code",
   "execution_count": null,
   "metadata": {},
   "outputs": [],
   "source": []
  },
  {
   "cell_type": "code",
   "execution_count": null,
   "metadata": {},
   "outputs": [],
   "source": []
  },
  {
   "cell_type": "code",
   "execution_count": null,
   "metadata": {},
   "outputs": [],
   "source": []
  }
 ],
 "metadata": {
  "kernelspec": {
   "display_name": "Python 3",
   "language": "python",
   "name": "python3"
  },
  "language_info": {
   "codemirror_mode": {
    "name": "ipython",
    "version": 3
   },
   "file_extension": ".py",
   "mimetype": "text/x-python",
   "name": "python",
   "nbconvert_exporter": "python",
   "pygments_lexer": "ipython3",
   "version": "3.7.5-final"
  }
 },
 "nbformat": 4,
 "nbformat_minor": 4
}