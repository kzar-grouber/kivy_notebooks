{
 "cells": [
  {
   "cell_type": "code",
   "execution_count": 1,
   "metadata": {},
   "outputs": [
    {
     "name": "stderr",
     "output_type": "stream",
     "text": "[INFO   ] [Logger      ] Record log in /home/cesar/.kivy/logs/kivy_20-01-30_8.txt\n[INFO   ] [Kivy        ] v1.11.1\n[INFO   ] [Kivy        ] Installed at \"/home/cesar/Dev/kivy/venv/lib/python3.7/site-packages/kivy/__init__.py\"\n[INFO   ] [Python      ] v3.7.5 (default, Jan 11 2020, 17:03:19) \n[GCC 7.4.0]\n[INFO   ] [Python      ] Interpreter at \"/home/cesar/Dev/kivy/venv/bin/python3\"\n[INFO   ] [Factory     ] 184 symbols loaded\n[INFO   ] [Image       ] Providers: img_tex, img_dds, img_sdl2, img_gif (img_pil, img_ffpyplayer ignored)\n[INFO   ] [Text        ] Provider: sdl2\n"
    }
   ],
   "source": [
    "# coding: utf-8\n",
    "# author: Cesar Godoi\n",
    "\n",
    "from kivy.app import App\n",
    "from kivy.uix.button import Button\n",
    "from kivy.uix.label import Label\n",
    "from kivy.interactive import InteractiveLauncher\n",
    "from kivy.lang import Builder\n",
    "\n",
    "# força a aplicação a não iniciar em tela cheia\n",
    "from kivy.config import Config\n",
    "Config.set('graphics', 'fullscreen', '0')\n",
    "\n",
    "\n",
    "window = None\n",
    "# layout_mngr --> layout manager\n",
    "layout_mngr = None"
   ]
  },
  {
   "cell_type": "code",
   "execution_count": 2,
   "metadata": {},
   "outputs": [],
   "source": [
    "class WindowApp(App):\n",
    "    pass\n",
    "\n",
    "\n",
    "window = WindowApp()\n",
    "# i_window --> Interactive Window\n",
    "i_window = InteractiveLauncher(window)\n",
    "i_window.run()"
   ]
  },
  {
   "cell_type": "code",
   "execution_count": 6,
   "metadata": {},
   "outputs": [],
   "source": [
    "kv_code = '''\n",
    "StackLayout:\n",
    "    orientation: 'tb-lr'\n",
    "    padding: 50\n",
    "'''\n",
    "\n",
    "if window.root:\n",
    "    window.root_window.remove_widget(window.root)\n",
    "    window.root, layout_mngr = None, None\n",
    "\n",
    "window.root = layout_mngr = Builder.load_string(kv_code)\n",
    "window.root_window.add_widget(layout_mngr)"
   ]
  },
  {
   "cell_type": "code",
   "execution_count": 3,
   "metadata": {},
   "outputs": [],
   "source": [
    "def add_button(**kwargs):\n",
    "    bt = Button(size_hint_y=None, \n",
    "                height=60, \n",
    "                **kwargs)\n",
    "    layout_mngr.add_widget(bt)\n",
    "    return bt"
   ]
  },
  {
   "cell_type": "code",
   "execution_count": 7,
   "metadata": {},
   "outputs": [],
   "source": [
    "# botão básico\n",
    "bt = add_button(text='sou um botão')"
   ]
  },
  {
   "cell_type": "code",
   "execution_count": 8,
   "metadata": {},
   "outputs": [],
   "source": [
    "# font_size --> aumenta o tamanho da fonte\n",
    "bt.font_size = 25"
   ]
  },
  {
   "cell_type": "code",
   "execution_count": 9,
   "metadata": {},
   "outputs": [],
   "source": [
    "# font_name --> troca o tipo de fonte (herado da classe Label)\n",
    "bt.font_name = 'DejaVuSans' "
   ]
  },
  {
   "cell_type": "code",
   "execution_count": 10,
   "metadata": {},
   "outputs": [],
   "source": [
    "# bold --> negrito\n",
    "bt.bold = True"
   ]
  },
  {
   "cell_type": "code",
   "execution_count": 11,
   "metadata": {},
   "outputs": [],
   "source": [
    "# italic --> itálico\n",
    "bt.italic = True"
   ]
  },
  {
   "cell_type": "code",
   "execution_count": 12,
   "metadata": {},
   "outputs": [],
   "source": [
    "# color --> cor do texto\n",
    "bt.color = .5, 1, .5, 1"
   ]
  },
  {
   "cell_type": "code",
   "execution_count": 19,
   "metadata": {},
   "outputs": [],
   "source": [
    "# trabalhando com BBCode\n",
    "bt.markup = True\n",
    "bt.text = 'sou um [size=40][color=#fff]botão[/color][/size]'"
   ]
  },
  {
   "cell_type": "code",
   "execution_count": 18,
   "metadata": {},
   "outputs": [],
   "source": [
    "# eventos\n",
    "# on_press\n",
    "def clicou(bt):\n",
    "    bt.text = 'CLICOU'\n",
    "bt.bind(on_press=clicou)\n",
    "\n",
    "# on release\n",
    "def soltou(bt):\n",
    "    bt.text = 'SOLTOU'\n",
    "bt.bind(on_release=soltou) "
   ]
  },
  {
   "cell_type": "code",
   "execution_count": null,
   "metadata": {},
   "outputs": [],
   "source": []
  }
 ],
 "metadata": {
  "kernelspec": {
   "display_name": "Python 3",
   "language": "python",
   "name": "python3"
  },
  "language_info": {
   "codemirror_mode": {
    "name": "ipython",
    "version": 3
   },
   "file_extension": ".py",
   "mimetype": "text/x-python",
   "name": "python",
   "nbconvert_exporter": "python",
   "pygments_lexer": "ipython3",
   "version": "3.7.5-final"
  }
 },
 "nbformat": 4,
 "nbformat_minor": 4
}