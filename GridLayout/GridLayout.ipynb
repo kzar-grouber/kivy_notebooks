{
 "cells": [
  {
   "cell_type": "code",
   "execution_count": null,
   "metadata": {},
   "outputs": [],
   "source": [
    "# coding: utf-8\n",
    "# author: Cesar Godoi\n",
    "\n",
    "from kivy.app import App\n",
    "from kivy.uix.button import Button\n",
    "from kivy.interactive import InteractiveLauncher\n",
    "from kivy.lang import Builder\n",
    "\n",
    "# força a aplicação a não iniciar em tela cheia\n",
    "from kivy.config import Config\n",
    "Config.set('graphics', 'fullscreen', '0')\n",
    "\n",
    "\n",
    "window = None\n",
    "# layout_mngr --> layout manager\n",
    "layout_mngr = None"
   ]
  },
  {
   "cell_type": "code",
   "execution_count": null,
   "metadata": {},
   "outputs": [],
   "source": [
    "class WindowApp(App):\n",
    "    pass\n",
    "\n",
    "\n",
    "window = WindowApp()\n",
    "# i_window --> Interactive Window\n",
    "i_window = InteractiveLauncher(window)\n",
    "i_window.run()"
   ]
  },
  {
   "cell_type": "code",
   "execution_count": null,
   "metadata": {},
   "outputs": [],
   "source": [
    "# GridLayout property:\n",
    "# cols --> number of colunms\n",
    "# rows --> number of rows\n",
    "# row_default_height: 50 (default hight of colunm)\n",
    "# row_force_default: True\n",
    "# col_default_height: 50 (default width of row)\n",
    "# col_force_default: True"
   ]
  },
  {
   "cell_type": "code",
   "execution_count": null,
   "metadata": {},
   "outputs": [],
   "source": [
    "kv_code = '''\n",
    "GridLayout:\n",
    "    cols: 3\n",
    "    rows: None\n",
    "    \n",
    "    row_default_height: 50\n",
    "    row_force_default: True\n",
    "    \n",
    "    # col_default_width: 50\n",
    "    # col_force_default: True\n",
    "    \n",
    "    Button:\n",
    "        text: 'A'\n",
    "        size_hint: .3, None\n",
    "    Button:\n",
    "        text: 'B'\n",
    "    Button:\n",
    "        text: 'C'\n",
    "    #Button:\n",
    "    #    text: 'D'\n",
    "    #    size_hint: .3, None\n",
    "    #Button:\n",
    "    #    text: 'E'\n",
    "    #Button:\n",
    "    #    text: 'F'\n",
    "    #Button:\n",
    "    #    text: 'G'\n",
    "    #    size_hint: .3, None\n",
    "'''\n",
    "\n",
    "if window.root:\n",
    "    window.root_window.remove_widget(window.root)\n",
    "    window.root, layout_mngr = None, None\n",
    "\n",
    "window.root = layout_mngr = Builder.load_string(kv_code)\n",
    "window.root_window.add_widget(layout_mngr)"
   ]
  },
  {
   "cell_type": "code",
   "execution_count": null,
   "metadata": {},
   "outputs": [],
   "source": [
    "layout_mngr.add_widget(Button(text='X'))"
   ]
  },
  {
   "cell_type": "code",
   "execution_count": null,
   "metadata": {},
   "outputs": [],
   "source": []
  }
 ],
 "metadata": {
  "kernelspec": {
   "display_name": "Python 3",
   "language": "python",
   "name": "python3"
  },
  "language_info": {
   "codemirror_mode": {
    "name": "ipython",
    "version": 3
   },
   "file_extension": ".py",
   "mimetype": "text/x-python",
   "name": "python",
   "nbconvert_exporter": "python",
   "pygments_lexer": "ipython3",
   "version": "3.7.5"
  }
 },
 "nbformat": 4,
 "nbformat_minor": 4
}
